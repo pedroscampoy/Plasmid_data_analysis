{
 "cells": [
  {
   "cell_type": "markdown",
   "metadata": {},
   "source": [
    "# Plasmid_data_analysis\n",
    "\n",
    "Plasmid data analysis is a test jupyter noteboot to train into several python3 commands and data analysis tools:\n",
    "    - urllib\n",
    "    - pandas\n",
    "    - matplotlib\n",
    "    - etc."
   ]
  },
  {
   "cell_type": "markdown",
   "metadata": {},
   "source": [
    "First we need to download the file we are going to use from [ncbi](https://www.ncbi.nlm.nih.gov/) __FTP__ server:\n",
    "[ftp://ftp.ncbi.nlm.nih.gov/genomes/GENOME_REPORTS/plasmids.txt](ftp://ftp.ncbi.nlm.nih.gov/genomes/GENOME_REPORTS/plasmids.txt).\n",
    "\n",
    "For that we use urllib to retrieve the file containing all plasmid added to refseq database:"
   ]
  },
  {
   "cell_type": "code",
   "execution_count": null,
   "metadata": {},
   "outputs": [],
   "source": [
    "import sys\n",
    "\n",
    "print(sys.version)\n",
    "\n",
    "#sys.path.append('usr/local/share/jupyter/kernels')\n",
    "sys.path.append('~/env36/lib/python3.6/site-packages/')"
   ]
  },
  {
   "cell_type": "code",
   "execution_count": 3,
   "metadata": {},
   "outputs": [],
   "source": [
    "import urllib\n",
    "import pandas as pd\n",
    "import matplotlib.pyplot as plt"
   ]
  },
  {
   "cell_type": "code",
   "execution_count": 4,
   "metadata": {},
   "outputs": [],
   "source": [
    "#Alternate way to download the file (would need to storage in in a file)\n",
    "#url = 'ftp://ftp.ncbi.nlm.nih.gov/genomes/GENOME_REPORTS/plasmids.txt'\n",
    "#with urllib.request.urlopen(url) as plasmidurl:\n",
    "#    plasmids = plasmidurl.read()"
   ]
  },
  {
   "cell_type": "code",
   "execution_count": null,
   "metadata": {},
   "outputs": [],
   "source": [
    "#faster way to store the database in a file\n",
    "url = 'ftp://ftp.ncbi.nlm.nih.gov/genomes/GENOME_REPORTS/plasmids.txt'\n",
    "urllib.request.urlretrieve(url, 'plasmid_ddbb.txt')"
   ]
  },
  {
   "cell_type": "markdown",
   "metadata": {},
   "source": [
    "The file downloaded is a TSV (tab-separated value) file with all plasmids added to the refseq database, which looks like that:"
   ]
  },
  {
   "cell_type": "code",
   "execution_count": null,
   "metadata": {
    "scrolled": false
   },
   "outputs": [],
   "source": [
    "with open(\"plasmid_ddbb.txt\") as plasmid_ddbb:\n",
    "    head = plasmid_ddbb.readlines()[0:10]\n",
    "print(head)"
   ]
  },
  {
   "cell_type": "markdown",
   "metadata": {},
   "source": [
    "This prints the top 10 lines of the file.\n",
    "\n",
    "To see the same information in a human readable format we use pandas. \n",
    "With head command, we can see the top 10 rows of a pandas dataframe"
   ]
  },
  {
   "cell_type": "code",
   "execution_count": 4,
   "metadata": {},
   "outputs": [],
   "source": [
    "#Add the TSV file into a pandas DataFrame \n",
    "plasmid_df = pd.read_csv(\"plasmid_ddbb.txt\", sep='\\t', header=0)\n",
    "#other parameters nrows=5"
   ]
  },
  {
   "cell_type": "code",
   "execution_count": 4,
   "metadata": {},
   "outputs": [
    {
     "data": {
      "text/html": [
       "<div>\n",
       "<style scoped>\n",
       "    .dataframe tbody tr th:only-of-type {\n",
       "        vertical-align: middle;\n",
       "    }\n",
       "\n",
       "    .dataframe tbody tr th {\n",
       "        vertical-align: top;\n",
       "    }\n",
       "\n",
       "    .dataframe thead th {\n",
       "        text-align: right;\n",
       "    }\n",
       "</style>\n",
       "<table border=\"1\" class=\"dataframe\">\n",
       "  <thead>\n",
       "    <tr style=\"text-align: right;\">\n",
       "      <th></th>\n",
       "      <th>#Organism/Name</th>\n",
       "      <th>Kingdom</th>\n",
       "      <th>Group</th>\n",
       "      <th>SubGroup</th>\n",
       "      <th>Plasmid Name</th>\n",
       "      <th>RefSeq</th>\n",
       "      <th>INSDC</th>\n",
       "      <th>Size (Kb)</th>\n",
       "      <th>GC%</th>\n",
       "      <th>Protein</th>\n",
       "      <th>rRNA</th>\n",
       "      <th>tRNA</th>\n",
       "      <th>Other RNA</th>\n",
       "      <th>Gene</th>\n",
       "      <th>Pseudogene</th>\n",
       "    </tr>\n",
       "  </thead>\n",
       "  <tbody>\n",
       "    <tr>\n",
       "      <th>0</th>\n",
       "      <td>Acaryochloris marina MBIC11017</td>\n",
       "      <td>Bacteria</td>\n",
       "      <td>Terrabacteria group</td>\n",
       "      <td>Cyanobacteria/Melainabacteria group</td>\n",
       "      <td>pREB1</td>\n",
       "      <td>NC_009926.1</td>\n",
       "      <td>CP000838</td>\n",
       "      <td>374.161</td>\n",
       "      <td>47.3483</td>\n",
       "      <td>309</td>\n",
       "      <td>-</td>\n",
       "      <td>-</td>\n",
       "      <td>-</td>\n",
       "      <td>333</td>\n",
       "      <td>24</td>\n",
       "    </tr>\n",
       "    <tr>\n",
       "      <th>1</th>\n",
       "      <td>Acaryochloris marina MBIC11017</td>\n",
       "      <td>Bacteria</td>\n",
       "      <td>Terrabacteria group</td>\n",
       "      <td>Cyanobacteria/Melainabacteria group</td>\n",
       "      <td>pREB2</td>\n",
       "      <td>NC_009927.1</td>\n",
       "      <td>CP000839</td>\n",
       "      <td>356.087</td>\n",
       "      <td>45.3367</td>\n",
       "      <td>336</td>\n",
       "      <td>-</td>\n",
       "      <td>-</td>\n",
       "      <td>-</td>\n",
       "      <td>360</td>\n",
       "      <td>24</td>\n",
       "    </tr>\n",
       "    <tr>\n",
       "      <th>2</th>\n",
       "      <td>Acaryochloris marina MBIC11017</td>\n",
       "      <td>Bacteria</td>\n",
       "      <td>Terrabacteria group</td>\n",
       "      <td>Cyanobacteria/Melainabacteria group</td>\n",
       "      <td>pREB3</td>\n",
       "      <td>NC_009928.1</td>\n",
       "      <td>CP000840</td>\n",
       "      <td>273.121</td>\n",
       "      <td>45.1902</td>\n",
       "      <td>250</td>\n",
       "      <td>-</td>\n",
       "      <td>-</td>\n",
       "      <td>-</td>\n",
       "      <td>290</td>\n",
       "      <td>40</td>\n",
       "    </tr>\n",
       "    <tr>\n",
       "      <th>3</th>\n",
       "      <td>Acaryochloris marina MBIC11017</td>\n",
       "      <td>Bacteria</td>\n",
       "      <td>Terrabacteria group</td>\n",
       "      <td>Cyanobacteria/Melainabacteria group</td>\n",
       "      <td>pREB4</td>\n",
       "      <td>NC_009929.1</td>\n",
       "      <td>CP000841</td>\n",
       "      <td>226.680</td>\n",
       "      <td>45.8770</td>\n",
       "      <td>209</td>\n",
       "      <td>-</td>\n",
       "      <td>-</td>\n",
       "      <td>-</td>\n",
       "      <td>225</td>\n",
       "      <td>16</td>\n",
       "    </tr>\n",
       "    <tr>\n",
       "      <th>4</th>\n",
       "      <td>Acaryochloris marina MBIC11017</td>\n",
       "      <td>Bacteria</td>\n",
       "      <td>Terrabacteria group</td>\n",
       "      <td>Cyanobacteria/Melainabacteria group</td>\n",
       "      <td>pREB5</td>\n",
       "      <td>NC_009930.1</td>\n",
       "      <td>CP000842</td>\n",
       "      <td>177.162</td>\n",
       "      <td>44.6755</td>\n",
       "      <td>176</td>\n",
       "      <td>-</td>\n",
       "      <td>-</td>\n",
       "      <td>-</td>\n",
       "      <td>179</td>\n",
       "      <td>3</td>\n",
       "    </tr>\n",
       "    <tr>\n",
       "      <th>5</th>\n",
       "      <td>Acaryochloris marina MBIC11017</td>\n",
       "      <td>Bacteria</td>\n",
       "      <td>Terrabacteria group</td>\n",
       "      <td>Cyanobacteria/Melainabacteria group</td>\n",
       "      <td>pREB6</td>\n",
       "      <td>NC_009931.1</td>\n",
       "      <td>CP000843</td>\n",
       "      <td>172.728</td>\n",
       "      <td>47.1267</td>\n",
       "      <td>152</td>\n",
       "      <td>-</td>\n",
       "      <td>-</td>\n",
       "      <td>-</td>\n",
       "      <td>165</td>\n",
       "      <td>13</td>\n",
       "    </tr>\n",
       "    <tr>\n",
       "      <th>6</th>\n",
       "      <td>Acaryochloris marina MBIC11017</td>\n",
       "      <td>Bacteria</td>\n",
       "      <td>Terrabacteria group</td>\n",
       "      <td>Cyanobacteria/Melainabacteria group</td>\n",
       "      <td>pREB7</td>\n",
       "      <td>NC_009932.1</td>\n",
       "      <td>CP000844</td>\n",
       "      <td>155.110</td>\n",
       "      <td>45.5909</td>\n",
       "      <td>130</td>\n",
       "      <td>-</td>\n",
       "      <td>-</td>\n",
       "      <td>-</td>\n",
       "      <td>136</td>\n",
       "      <td>6</td>\n",
       "    </tr>\n",
       "    <tr>\n",
       "      <th>7</th>\n",
       "      <td>Acaryochloris marina MBIC11017</td>\n",
       "      <td>Bacteria</td>\n",
       "      <td>Terrabacteria group</td>\n",
       "      <td>Cyanobacteria/Melainabacteria group</td>\n",
       "      <td>pREB8</td>\n",
       "      <td>NC_009933.1</td>\n",
       "      <td>CP000845</td>\n",
       "      <td>120.693</td>\n",
       "      <td>45.4185</td>\n",
       "      <td>103</td>\n",
       "      <td>-</td>\n",
       "      <td>-</td>\n",
       "      <td>-</td>\n",
       "      <td>109</td>\n",
       "      <td>6</td>\n",
       "    </tr>\n",
       "    <tr>\n",
       "      <th>8</th>\n",
       "      <td>Acaryochloris marina MBIC11017</td>\n",
       "      <td>Bacteria</td>\n",
       "      <td>Terrabacteria group</td>\n",
       "      <td>Cyanobacteria/Melainabacteria group</td>\n",
       "      <td>pREB9</td>\n",
       "      <td>NC_009934.1</td>\n",
       "      <td>CP000846</td>\n",
       "      <td>2.133</td>\n",
       "      <td>42.5223</td>\n",
       "      <td>2</td>\n",
       "      <td>-</td>\n",
       "      <td>-</td>\n",
       "      <td>-</td>\n",
       "      <td>3</td>\n",
       "      <td>1</td>\n",
       "    </tr>\n",
       "    <tr>\n",
       "      <th>9</th>\n",
       "      <td>Acetobacter aceti</td>\n",
       "      <td>Bacteria</td>\n",
       "      <td>Proteobacteria</td>\n",
       "      <td>Alphaproteobacteria</td>\n",
       "      <td>pAC5</td>\n",
       "      <td>NC_001275.1</td>\n",
       "      <td>AF110140</td>\n",
       "      <td>5.123</td>\n",
       "      <td>55.8657</td>\n",
       "      <td>2</td>\n",
       "      <td>-</td>\n",
       "      <td>-</td>\n",
       "      <td>-</td>\n",
       "      <td>2</td>\n",
       "      <td>-</td>\n",
       "    </tr>\n",
       "  </tbody>\n",
       "</table>\n",
       "</div>"
      ],
      "text/plain": [
       "                   #Organism/Name   Kingdom                Group  \\\n",
       "0  Acaryochloris marina MBIC11017  Bacteria  Terrabacteria group   \n",
       "1  Acaryochloris marina MBIC11017  Bacteria  Terrabacteria group   \n",
       "2  Acaryochloris marina MBIC11017  Bacteria  Terrabacteria group   \n",
       "3  Acaryochloris marina MBIC11017  Bacteria  Terrabacteria group   \n",
       "4  Acaryochloris marina MBIC11017  Bacteria  Terrabacteria group   \n",
       "5  Acaryochloris marina MBIC11017  Bacteria  Terrabacteria group   \n",
       "6  Acaryochloris marina MBIC11017  Bacteria  Terrabacteria group   \n",
       "7  Acaryochloris marina MBIC11017  Bacteria  Terrabacteria group   \n",
       "8  Acaryochloris marina MBIC11017  Bacteria  Terrabacteria group   \n",
       "9               Acetobacter aceti  Bacteria       Proteobacteria   \n",
       "\n",
       "                              SubGroup Plasmid Name       RefSeq     INSDC  \\\n",
       "0  Cyanobacteria/Melainabacteria group        pREB1  NC_009926.1  CP000838   \n",
       "1  Cyanobacteria/Melainabacteria group        pREB2  NC_009927.1  CP000839   \n",
       "2  Cyanobacteria/Melainabacteria group        pREB3  NC_009928.1  CP000840   \n",
       "3  Cyanobacteria/Melainabacteria group        pREB4  NC_009929.1  CP000841   \n",
       "4  Cyanobacteria/Melainabacteria group        pREB5  NC_009930.1  CP000842   \n",
       "5  Cyanobacteria/Melainabacteria group        pREB6  NC_009931.1  CP000843   \n",
       "6  Cyanobacteria/Melainabacteria group        pREB7  NC_009932.1  CP000844   \n",
       "7  Cyanobacteria/Melainabacteria group        pREB8  NC_009933.1  CP000845   \n",
       "8  Cyanobacteria/Melainabacteria group        pREB9  NC_009934.1  CP000846   \n",
       "9                  Alphaproteobacteria         pAC5  NC_001275.1  AF110140   \n",
       "\n",
       "   Size (Kb)      GC% Protein rRNA tRNA Other RNA Gene Pseudogene  \n",
       "0    374.161  47.3483     309    -    -         -  333         24  \n",
       "1    356.087  45.3367     336    -    -         -  360         24  \n",
       "2    273.121  45.1902     250    -    -         -  290         40  \n",
       "3    226.680  45.8770     209    -    -         -  225         16  \n",
       "4    177.162  44.6755     176    -    -         -  179          3  \n",
       "5    172.728  47.1267     152    -    -         -  165         13  \n",
       "6    155.110  45.5909     130    -    -         -  136          6  \n",
       "7    120.693  45.4185     103    -    -         -  109          6  \n",
       "8      2.133  42.5223       2    -    -         -    3          1  \n",
       "9      5.123  55.8657       2    -    -         -    2          -  "
      ]
     },
     "execution_count": 4,
     "metadata": {},
     "output_type": "execute_result"
    }
   ],
   "source": [
    "plasmid_df.head(10)"
   ]
  },
  {
   "cell_type": "code",
   "execution_count": 9,
   "metadata": {},
   "outputs": [
    {
     "name": "stdout",
     "output_type": "stream",
     "text": [
      "This database has 14530 plasmids with information of 15 features:\n",
      "- #Organism/Name\n",
      "- Kingdom\n",
      "- Group\n",
      "- SubGroup\n",
      "- Plasmid Name\n",
      "- RefSeq\n",
      "- INSDC\n",
      "- Size (Kb)\n",
      "- GC%\n",
      "- Protein\n",
      "- rRNA\n",
      "- tRNA\n",
      "- Other RNA\n",
      "- Gene\n",
      "- Pseudogene\n"
     ]
    }
   ],
   "source": [
    "#The function shape tell us the DF dimensions \n",
    "print('This database has %s plasmids with information of %s features:' %  plasmid_df.shape)\n",
    "for feature in plasmid_df.columns:\n",
    "    print(\"- \" + feature)"
   ]
  },
  {
   "cell_type": "code",
   "execution_count": 10,
   "metadata": {},
   "outputs": [
    {
     "data": {
      "text/html": [
       "<div>\n",
       "<style scoped>\n",
       "    .dataframe tbody tr th:only-of-type {\n",
       "        vertical-align: middle;\n",
       "    }\n",
       "\n",
       "    .dataframe tbody tr th {\n",
       "        vertical-align: top;\n",
       "    }\n",
       "\n",
       "    .dataframe thead th {\n",
       "        text-align: right;\n",
       "    }\n",
       "</style>\n",
       "<table border=\"1\" class=\"dataframe\">\n",
       "  <thead>\n",
       "    <tr style=\"text-align: right;\">\n",
       "      <th></th>\n",
       "      <th>Size (Kb)</th>\n",
       "      <th>GC%</th>\n",
       "    </tr>\n",
       "  </thead>\n",
       "  <tbody>\n",
       "    <tr>\n",
       "      <th>count</th>\n",
       "      <td>14530.000000</td>\n",
       "      <td>14530.000000</td>\n",
       "    </tr>\n",
       "    <tr>\n",
       "      <th>mean</th>\n",
       "      <td>110.860817</td>\n",
       "      <td>45.927032</td>\n",
       "    </tr>\n",
       "    <tr>\n",
       "      <th>std</th>\n",
       "      <td>240.551826</td>\n",
       "      <td>11.830250</td>\n",
       "    </tr>\n",
       "    <tr>\n",
       "      <th>min</th>\n",
       "      <td>0.537000</td>\n",
       "      <td>0.000000</td>\n",
       "    </tr>\n",
       "    <tr>\n",
       "      <th>25%</th>\n",
       "      <td>11.888750</td>\n",
       "      <td>35.925650</td>\n",
       "    </tr>\n",
       "    <tr>\n",
       "      <th>50%</th>\n",
       "      <td>48.748500</td>\n",
       "      <td>46.772900</td>\n",
       "    </tr>\n",
       "    <tr>\n",
       "      <th>75%</th>\n",
       "      <td>111.692750</td>\n",
       "      <td>54.073775</td>\n",
       "    </tr>\n",
       "    <tr>\n",
       "      <th>max</th>\n",
       "      <td>5836.680000</td>\n",
       "      <td>87.477300</td>\n",
       "    </tr>\n",
       "  </tbody>\n",
       "</table>\n",
       "</div>"
      ],
      "text/plain": [
       "          Size (Kb)           GC%\n",
       "count  14530.000000  14530.000000\n",
       "mean     110.860817     45.927032\n",
       "std      240.551826     11.830250\n",
       "min        0.537000      0.000000\n",
       "25%       11.888750     35.925650\n",
       "50%       48.748500     46.772900\n",
       "75%      111.692750     54.073775\n",
       "max     5836.680000     87.477300"
      ]
     },
     "execution_count": 10,
     "metadata": {},
     "output_type": "execute_result"
    }
   ],
   "source": [
    "plasmid_df.describe()"
   ]
  },
  {
   "cell_type": "markdown",
   "metadata": {},
   "source": [
    "# Drop NA to check if pandas takes \"-\" and \"NaN\" equally\n",
    "The key fields are completelly filled. Fieds such 'rRNA', 'tRNA' or 'Other RNA' have many missing values. As an attemp to clean them we can make a copy and replace '-' for 'NaN' to find out if those missing values alter descriptive stats. We will find out later that this is __not__ the case."
   ]
  },
  {
   "cell_type": "code",
   "execution_count": null,
   "metadata": {},
   "outputs": [],
   "source": [
    "#plasmid_df['rRNA'].describe()"
   ]
  },
  {
   "cell_type": "code",
   "execution_count": null,
   "metadata": {},
   "outputs": [],
   "source": [
    "#locate a specific plasmids\n",
    "#plasmid_df.iloc[400]\n",
    "#plasmid_df.iloc[0:400][['Kingdom', 'Size (Kb)']]\n",
    "#plasmid_df['Plasmid Name']"
   ]
  },
  {
   "cell_type": "code",
   "execution_count": 13,
   "metadata": {},
   "outputs": [],
   "source": [
    "#plasmid_missing = plasmid_df.copy()\n",
    "#plasmid_na = plasmid_missing.replace('-', 'NaN')\n",
    "#plasmid_na"
   ]
  },
  {
   "cell_type": "code",
   "execution_count": null,
   "metadata": {},
   "outputs": [],
   "source": [
    "#print(plasmid_df['rRNA'].describe(), plasmid_na['rRNA'].describe())\n"
   ]
  },
  {
   "cell_type": "markdown",
   "metadata": {},
   "source": [
    "# String manipulation\n",
    "Plasmids are very promiscuous structuresthat can be transfered within different species so, to find a relationship within species and other feature, we first need to use only genus and species, not the fields supplied that includes the variety, interpreted as different organism.\n",
    "\n",
    "We can do it easily with string manipulation."
   ]
  },
  {
   "cell_type": "code",
   "execution_count": 14,
   "metadata": {
    "scrolled": true
   },
   "outputs": [
    {
     "data": {
      "text/html": [
       "<div>\n",
       "<style scoped>\n",
       "    .dataframe tbody tr th:only-of-type {\n",
       "        vertical-align: middle;\n",
       "    }\n",
       "\n",
       "    .dataframe tbody tr th {\n",
       "        vertical-align: top;\n",
       "    }\n",
       "\n",
       "    .dataframe thead th {\n",
       "        text-align: right;\n",
       "    }\n",
       "</style>\n",
       "<table border=\"1\" class=\"dataframe\">\n",
       "  <thead>\n",
       "    <tr style=\"text-align: right;\">\n",
       "      <th></th>\n",
       "      <th>#Organism/Name</th>\n",
       "      <th>Kingdom</th>\n",
       "      <th>Group</th>\n",
       "      <th>SubGroup</th>\n",
       "    </tr>\n",
       "  </thead>\n",
       "  <tbody>\n",
       "    <tr>\n",
       "      <th>count</th>\n",
       "      <td>14530</td>\n",
       "      <td>14530</td>\n",
       "      <td>14530</td>\n",
       "      <td>14530</td>\n",
       "    </tr>\n",
       "    <tr>\n",
       "      <th>unique</th>\n",
       "      <td>3236</td>\n",
       "      <td>4</td>\n",
       "      <td>22</td>\n",
       "      <td>57</td>\n",
       "    </tr>\n",
       "    <tr>\n",
       "      <th>top</th>\n",
       "      <td>Escherichia coli</td>\n",
       "      <td>Bacteria</td>\n",
       "      <td>Proteobacteria</td>\n",
       "      <td>Gammaproteobacteria</td>\n",
       "    </tr>\n",
       "    <tr>\n",
       "      <th>freq</th>\n",
       "      <td>1184</td>\n",
       "      <td>14217</td>\n",
       "      <td>8710</td>\n",
       "      <td>6297</td>\n",
       "    </tr>\n",
       "  </tbody>\n",
       "</table>\n",
       "</div>"
      ],
      "text/plain": [
       "          #Organism/Name   Kingdom           Group             SubGroup\n",
       "count              14530     14530           14530                14530\n",
       "unique              3236         4              22                   57\n",
       "top     Escherichia coli  Bacteria  Proteobacteria  Gammaproteobacteria\n",
       "freq                1184     14217            8710                 6297"
      ]
     },
     "execution_count": 14,
     "metadata": {},
     "output_type": "execute_result"
    }
   ],
   "source": [
    "plasmid_df[['#Organism/Name','Kingdom','Group','SubGroup']].describe()"
   ]
  },
  {
   "cell_type": "code",
   "execution_count": 11,
   "metadata": {},
   "outputs": [
    {
     "data": {
      "text/html": [
       "<div>\n",
       "<style scoped>\n",
       "    .dataframe tbody tr th:only-of-type {\n",
       "        vertical-align: middle;\n",
       "    }\n",
       "\n",
       "    .dataframe tbody tr th {\n",
       "        vertical-align: top;\n",
       "    }\n",
       "\n",
       "    .dataframe thead th {\n",
       "        text-align: right;\n",
       "    }\n",
       "</style>\n",
       "<table border=\"1\" class=\"dataframe\">\n",
       "  <thead>\n",
       "    <tr style=\"text-align: right;\">\n",
       "      <th></th>\n",
       "      <th>#Organism/Name</th>\n",
       "      <th>genus</th>\n",
       "      <th>species</th>\n",
       "      <th>Organism</th>\n",
       "    </tr>\n",
       "  </thead>\n",
       "  <tbody>\n",
       "    <tr>\n",
       "      <th>count</th>\n",
       "      <td>14530</td>\n",
       "      <td>14530</td>\n",
       "      <td>14530</td>\n",
       "      <td>14530</td>\n",
       "    </tr>\n",
       "    <tr>\n",
       "      <th>unique</th>\n",
       "      <td>3236</td>\n",
       "      <td>600</td>\n",
       "      <td>1250</td>\n",
       "      <td>1583</td>\n",
       "    </tr>\n",
       "    <tr>\n",
       "      <th>top</th>\n",
       "      <td>Escherichia coli</td>\n",
       "      <td>Escherichia</td>\n",
       "      <td>coli</td>\n",
       "      <td>Escherichia coli</td>\n",
       "    </tr>\n",
       "    <tr>\n",
       "      <th>freq</th>\n",
       "      <td>1184</td>\n",
       "      <td>1508</td>\n",
       "      <td>1520</td>\n",
       "      <td>1479</td>\n",
       "    </tr>\n",
       "  </tbody>\n",
       "</table>\n",
       "</div>"
      ],
      "text/plain": [
       "          #Organism/Name        genus species          Organism\n",
       "count              14530        14530   14530             14530\n",
       "unique              3236          600    1250              1583\n",
       "top     Escherichia coli  Escherichia    coli  Escherichia coli\n",
       "freq                1184         1508    1520              1479"
      ]
     },
     "execution_count": 11,
     "metadata": {},
     "output_type": "execute_result"
    }
   ],
   "source": [
    "plasmid_df['genus'] = plasmid_df['#Organism/Name'].str.split(' ').str[0]\n",
    "plasmid_df['species'] = plasmid_df['#Organism/Name'].str.split(' ').str[1]\n",
    "plasmid_df['Organism'] = plasmid_df['genus'] + \" \" + plasmid_df['species']\n",
    "\n",
    "plasmid_df[['#Organism/Name','genus', 'species', 'Organism']].describe()"
   ]
  },
  {
   "cell_type": "markdown",
   "metadata": {},
   "source": [
    "What seemed to be:"
   ]
  },
  {
   "cell_type": "code",
   "execution_count": 7,
   "metadata": {},
   "outputs": [
    {
     "data": {
      "text/plain": [
       "3236"
      ]
     },
     "execution_count": 7,
     "metadata": {},
     "output_type": "execute_result"
    }
   ],
   "source": [
    "len(plasmid_df['#Organism/Name'].unique())"
   ]
  },
  {
   "cell_type": "code",
   "execution_count": 47,
   "metadata": {
    "scrolled": true
   },
   "outputs": [
    {
     "data": {
      "text/html": [
       "<div>\n",
       "<style scoped>\n",
       "    .dataframe tbody tr th:only-of-type {\n",
       "        vertical-align: middle;\n",
       "    }\n",
       "\n",
       "    .dataframe tbody tr th {\n",
       "        vertical-align: top;\n",
       "    }\n",
       "\n",
       "    .dataframe thead th {\n",
       "        text-align: right;\n",
       "    }\n",
       "</style>\n",
       "<table border=\"1\" class=\"dataframe\">\n",
       "  <thead>\n",
       "    <tr style=\"text-align: right;\">\n",
       "      <th></th>\n",
       "      <th>Organism</th>\n",
       "      <th>count</th>\n",
       "    </tr>\n",
       "  </thead>\n",
       "  <tbody>\n",
       "    <tr>\n",
       "      <th>521</th>\n",
       "      <td>Escherichia coli</td>\n",
       "      <td>1479</td>\n",
       "    </tr>\n",
       "    <tr>\n",
       "      <th>670</th>\n",
       "      <td>Klebsiella pneumoniae</td>\n",
       "      <td>1089</td>\n",
       "    </tr>\n",
       "    <tr>\n",
       "      <th>1237</th>\n",
       "      <td>Salmonella enterica</td>\n",
       "      <td>582</td>\n",
       "    </tr>\n",
       "    <tr>\n",
       "      <th>1321</th>\n",
       "      <td>Staphylococcus aureus</td>\n",
       "      <td>404</td>\n",
       "    </tr>\n",
       "    <tr>\n",
       "      <th>164</th>\n",
       "      <td>Bacillus thuringiensis</td>\n",
       "      <td>308</td>\n",
       "    </tr>\n",
       "    <tr>\n",
       "      <th>214</th>\n",
       "      <td>Borreliella burgdorferi</td>\n",
       "      <td>299</td>\n",
       "    </tr>\n",
       "    <tr>\n",
       "      <th>32</th>\n",
       "      <td>Acinetobacter baumannii</td>\n",
       "      <td>288</td>\n",
       "    </tr>\n",
       "    <tr>\n",
       "      <th>722</th>\n",
       "      <td>Lactobacillus plantarum</td>\n",
       "      <td>246</td>\n",
       "    </tr>\n",
       "    <tr>\n",
       "      <th>500</th>\n",
       "      <td>Enterococcus faecium</td>\n",
       "      <td>223</td>\n",
       "    </tr>\n",
       "    <tr>\n",
       "      <th>731</th>\n",
       "      <td>Lactococcus lactis</td>\n",
       "      <td>179</td>\n",
       "    </tr>\n",
       "  </tbody>\n",
       "</table>\n",
       "</div>"
      ],
      "text/plain": [
       "                     Organism  count\n",
       "521          Escherichia coli   1479\n",
       "670     Klebsiella pneumoniae   1089\n",
       "1237      Salmonella enterica    582\n",
       "1321    Staphylococcus aureus    404\n",
       "164    Bacillus thuringiensis    308\n",
       "214   Borreliella burgdorferi    299\n",
       "32    Acinetobacter baumannii    288\n",
       "722   Lactobacillus plantarum    246\n",
       "500      Enterococcus faecium    223\n",
       "731        Lactococcus lactis    179"
      ]
     },
     "execution_count": 47,
     "metadata": {},
     "output_type": "execute_result"
    }
   ],
   "source": [
    "plasmid_df[['Organism', 'Size (Kb)']].groupby(['Organism'])['Size (Kb)'] \\\n",
    ".count() \\\n",
    ".reset_index(name='count') \\\n",
    ".sort_values(['count'], ascending=False) \\\n",
    ".head(10) #\\\n",
    "#.plot.bar(figsize=(20,5))"
   ]
  },
  {
   "cell_type": "code",
   "execution_count": 52,
   "metadata": {},
   "outputs": [
    {
     "data": {
      "text/html": [
       "<div>\n",
       "<style scoped>\n",
       "    .dataframe tbody tr th:only-of-type {\n",
       "        vertical-align: middle;\n",
       "    }\n",
       "\n",
       "    .dataframe tbody tr th {\n",
       "        vertical-align: top;\n",
       "    }\n",
       "\n",
       "    .dataframe thead th {\n",
       "        text-align: right;\n",
       "    }\n",
       "</style>\n",
       "<table border=\"1\" class=\"dataframe\">\n",
       "  <thead>\n",
       "    <tr style=\"text-align: right;\">\n",
       "      <th></th>\n",
       "      <th>#Organism/Name</th>\n",
       "      <th>Kingdom</th>\n",
       "      <th>Group</th>\n",
       "      <th>SubGroup</th>\n",
       "      <th>Plasmid Name</th>\n",
       "      <th>RefSeq</th>\n",
       "      <th>INSDC</th>\n",
       "      <th>Size (Kb)</th>\n",
       "      <th>GC%</th>\n",
       "      <th>Protein</th>\n",
       "      <th>rRNA</th>\n",
       "      <th>tRNA</th>\n",
       "      <th>Other RNA</th>\n",
       "      <th>Gene</th>\n",
       "      <th>Pseudogene</th>\n",
       "      <th>genus</th>\n",
       "      <th>species</th>\n",
       "      <th>Organism</th>\n",
       "    </tr>\n",
       "  </thead>\n",
       "  <tbody>\n",
       "    <tr>\n",
       "      <th>3719</th>\n",
       "      <td>Cronobacter sakazakii</td>\n",
       "      <td>Bacteria</td>\n",
       "      <td>Proteobacteria</td>\n",
       "      <td>Gammaproteobacteria</td>\n",
       "      <td>pCsaCS931a</td>\n",
       "      <td>-</td>\n",
       "      <td>CP027108</td>\n",
       "      <td>4194.43</td>\n",
       "      <td>57.0121</td>\n",
       "      <td>3869</td>\n",
       "      <td>22</td>\n",
       "      <td>70</td>\n",
       "      <td>12</td>\n",
       "      <td>4060</td>\n",
       "      <td>87</td>\n",
       "      <td>Cronobacter</td>\n",
       "      <td>sakazakii</td>\n",
       "      <td>Cronobacter sakazakii</td>\n",
       "    </tr>\n",
       "    <tr>\n",
       "      <th>10530</th>\n",
       "      <td>Pseudomonas monteilii</td>\n",
       "      <td>Bacteria</td>\n",
       "      <td>Proteobacteria</td>\n",
       "      <td>Gammaproteobacteria</td>\n",
       "      <td>unnamed</td>\n",
       "      <td>NZ_CP014062.1</td>\n",
       "      <td>-</td>\n",
       "      <td>5836.68</td>\n",
       "      <td>61.8550</td>\n",
       "      <td>5209</td>\n",
       "      <td>22</td>\n",
       "      <td>79</td>\n",
       "      <td>4</td>\n",
       "      <td>5535</td>\n",
       "      <td>221</td>\n",
       "      <td>Pseudomonas</td>\n",
       "      <td>monteilii</td>\n",
       "      <td>Pseudomonas monteilii</td>\n",
       "    </tr>\n",
       "    <tr>\n",
       "      <th>11911</th>\n",
       "      <td>Salmonella enterica subsp. enterica serovar Qu...</td>\n",
       "      <td>Bacteria</td>\n",
       "      <td>Proteobacteria</td>\n",
       "      <td>Gammaproteobacteria</td>\n",
       "      <td>punamed2</td>\n",
       "      <td>NZ_CP022019.1</td>\n",
       "      <td>-</td>\n",
       "      <td>4626.70</td>\n",
       "      <td>52.2113</td>\n",
       "      <td>4385</td>\n",
       "      <td>22</td>\n",
       "      <td>91</td>\n",
       "      <td>15</td>\n",
       "      <td>4666</td>\n",
       "      <td>153</td>\n",
       "      <td>Salmonella</td>\n",
       "      <td>enterica</td>\n",
       "      <td>Salmonella enterica</td>\n",
       "    </tr>\n",
       "  </tbody>\n",
       "</table>\n",
       "</div>"
      ],
      "text/plain": [
       "                                          #Organism/Name   Kingdom  \\\n",
       "3719                               Cronobacter sakazakii  Bacteria   \n",
       "10530                              Pseudomonas monteilii  Bacteria   \n",
       "11911  Salmonella enterica subsp. enterica serovar Qu...  Bacteria   \n",
       "\n",
       "                Group             SubGroup Plasmid Name         RefSeq  \\\n",
       "3719   Proteobacteria  Gammaproteobacteria   pCsaCS931a              -   \n",
       "10530  Proteobacteria  Gammaproteobacteria      unnamed  NZ_CP014062.1   \n",
       "11911  Proteobacteria  Gammaproteobacteria     punamed2  NZ_CP022019.1   \n",
       "\n",
       "          INSDC  Size (Kb)      GC% Protein rRNA tRNA Other RNA  Gene  \\\n",
       "3719   CP027108    4194.43  57.0121    3869   22   70        12  4060   \n",
       "10530         -    5836.68  61.8550    5209   22   79         4  5535   \n",
       "11911         -    4626.70  52.2113    4385   22   91        15  4666   \n",
       "\n",
       "      Pseudogene        genus    species               Organism  \n",
       "3719          87  Cronobacter  sakazakii  Cronobacter sakazakii  \n",
       "10530        221  Pseudomonas  monteilii  Pseudomonas monteilii  \n",
       "11911        153   Salmonella   enterica    Salmonella enterica  "
      ]
     },
     "execution_count": 52,
     "metadata": {},
     "output_type": "execute_result"
    }
   ],
   "source": [
    "#See all plasmid longer than 4Mb\n",
    "plasmid_df[plasmid_df['Size (Kb)'] > 3500]"
   ]
  },
  {
   "cell_type": "code",
   "execution_count": 73,
   "metadata": {
    "scrolled": true
   },
   "outputs": [
    {
     "ename": "AttributeError",
     "evalue": "'NoneType' object has no attribute 'update'",
     "output_type": "error",
     "traceback": [
      "\u001b[0;31m---------------------------------------------------------------------------\u001b[0m",
      "\u001b[0;31mAttributeError\u001b[0m                            Traceback (most recent call last)",
      "\u001b[0;32m<ipython-input-73-40dbce4f6497>\u001b[0m in \u001b[0;36m<module>\u001b[0;34m\u001b[0m\n\u001b[1;32m     29\u001b[0m \u001b[0;31m#Rotate labels\u001b[0m\u001b[0;34m\u001b[0m\u001b[0;34m\u001b[0m\u001b[0;34m\u001b[0m\u001b[0m\n\u001b[1;32m     30\u001b[0m \u001b[0mlabels\u001b[0m \u001b[0;34m=\u001b[0m \u001b[0mplasmid_df\u001b[0m\u001b[0;34m.\u001b[0m\u001b[0miloc\u001b[0m\u001b[0;34m[\u001b[0m\u001b[0;36m0\u001b[0m\u001b[0;34m:\u001b[0m\u001b[0;36m200\u001b[0m\u001b[0;34m]\u001b[0m\u001b[0;34m[\u001b[0m\u001b[0;34m'genus'\u001b[0m\u001b[0;34m]\u001b[0m\u001b[0;34m.\u001b[0m\u001b[0munique\u001b[0m\u001b[0;34m(\u001b[0m\u001b[0;34m)\u001b[0m\u001b[0;34m\u001b[0m\u001b[0;34m\u001b[0m\u001b[0m\n\u001b[0;32m---> 31\u001b[0;31m \u001b[0mplt\u001b[0m\u001b[0;34m.\u001b[0m\u001b[0mxticks\u001b[0m\u001b[0;34m(\u001b[0m\u001b[0mgenus\u001b[0m\u001b[0;34m,\u001b[0m \u001b[0mrotation\u001b[0m\u001b[0;34m=\u001b[0m\u001b[0;34m'vertical'\u001b[0m\u001b[0;34m)\u001b[0m\u001b[0;34m\u001b[0m\u001b[0;34m\u001b[0m\u001b[0m\n\u001b[0m\u001b[1;32m     32\u001b[0m \u001b[0;34m\u001b[0m\u001b[0m\n\u001b[1;32m     33\u001b[0m \u001b[0;34m\u001b[0m\u001b[0m\n",
      "\u001b[0;32m~/venv/lib/python3.6/site-packages/matplotlib/pyplot.py\u001b[0m in \u001b[0;36mxticks\u001b[0;34m(ticks, labels, **kwargs)\u001b[0m\n\u001b[1;32m   1547\u001b[0m         \u001b[0mlabels\u001b[0m \u001b[0;34m=\u001b[0m \u001b[0max\u001b[0m\u001b[0;34m.\u001b[0m\u001b[0mget_xticklabels\u001b[0m\u001b[0;34m(\u001b[0m\u001b[0;34m)\u001b[0m\u001b[0;34m\u001b[0m\u001b[0;34m\u001b[0m\u001b[0m\n\u001b[1;32m   1548\u001b[0m     \u001b[0;32melif\u001b[0m \u001b[0mlabels\u001b[0m \u001b[0;32mis\u001b[0m \u001b[0;32mNone\u001b[0m\u001b[0;34m:\u001b[0m\u001b[0;34m\u001b[0m\u001b[0;34m\u001b[0m\u001b[0m\n\u001b[0;32m-> 1549\u001b[0;31m         \u001b[0mlocs\u001b[0m \u001b[0;34m=\u001b[0m \u001b[0max\u001b[0m\u001b[0;34m.\u001b[0m\u001b[0mset_xticks\u001b[0m\u001b[0;34m(\u001b[0m\u001b[0mticks\u001b[0m\u001b[0;34m)\u001b[0m\u001b[0;34m\u001b[0m\u001b[0;34m\u001b[0m\u001b[0m\n\u001b[0m\u001b[1;32m   1550\u001b[0m         \u001b[0mlabels\u001b[0m \u001b[0;34m=\u001b[0m \u001b[0max\u001b[0m\u001b[0;34m.\u001b[0m\u001b[0mget_xticklabels\u001b[0m\u001b[0;34m(\u001b[0m\u001b[0;34m)\u001b[0m\u001b[0;34m\u001b[0m\u001b[0;34m\u001b[0m\u001b[0m\n\u001b[1;32m   1551\u001b[0m     \u001b[0;32melse\u001b[0m\u001b[0;34m:\u001b[0m\u001b[0;34m\u001b[0m\u001b[0;34m\u001b[0m\u001b[0m\n",
      "\u001b[0;32m~/venv/lib/python3.6/site-packages/matplotlib/axes/_base.py\u001b[0m in \u001b[0;36mset_xticks\u001b[0;34m(self, ticks, minor)\u001b[0m\n\u001b[1;32m   3335\u001b[0m             \u001b[0mDefault\u001b[0m \u001b[0;32mis\u001b[0m\u001b[0;31m \u001b[0m\u001b[0;31m`\u001b[0m\u001b[0;31m`\u001b[0m\u001b[0;32mFalse\u001b[0m\u001b[0;31m`\u001b[0m\u001b[0;31m`\u001b[0m\u001b[0;34m.\u001b[0m\u001b[0;34m\u001b[0m\u001b[0;34m\u001b[0m\u001b[0m\n\u001b[1;32m   3336\u001b[0m         \"\"\"\n\u001b[0;32m-> 3337\u001b[0;31m         \u001b[0mret\u001b[0m \u001b[0;34m=\u001b[0m \u001b[0mself\u001b[0m\u001b[0;34m.\u001b[0m\u001b[0mxaxis\u001b[0m\u001b[0;34m.\u001b[0m\u001b[0mset_ticks\u001b[0m\u001b[0;34m(\u001b[0m\u001b[0mticks\u001b[0m\u001b[0;34m,\u001b[0m \u001b[0mminor\u001b[0m\u001b[0;34m=\u001b[0m\u001b[0mminor\u001b[0m\u001b[0;34m)\u001b[0m\u001b[0;34m\u001b[0m\u001b[0;34m\u001b[0m\u001b[0m\n\u001b[0m\u001b[1;32m   3338\u001b[0m         \u001b[0mself\u001b[0m\u001b[0;34m.\u001b[0m\u001b[0mstale\u001b[0m \u001b[0;34m=\u001b[0m \u001b[0;32mTrue\u001b[0m\u001b[0;34m\u001b[0m\u001b[0;34m\u001b[0m\u001b[0m\n\u001b[1;32m   3339\u001b[0m         \u001b[0;32mreturn\u001b[0m \u001b[0mret\u001b[0m\u001b[0;34m\u001b[0m\u001b[0;34m\u001b[0m\u001b[0m\n",
      "\u001b[0;32m~/venv/lib/python3.6/site-packages/matplotlib/axis.py\u001b[0m in \u001b[0;36mset_ticks\u001b[0;34m(self, ticks, minor)\u001b[0m\n\u001b[1;32m   1702\u001b[0m         \"\"\"\n\u001b[1;32m   1703\u001b[0m         \u001b[0;31m# XXX if the user changes units, the information will be lost here\u001b[0m\u001b[0;34m\u001b[0m\u001b[0;34m\u001b[0m\u001b[0;34m\u001b[0m\u001b[0m\n\u001b[0;32m-> 1704\u001b[0;31m         \u001b[0mticks\u001b[0m \u001b[0;34m=\u001b[0m \u001b[0mself\u001b[0m\u001b[0;34m.\u001b[0m\u001b[0mconvert_units\u001b[0m\u001b[0;34m(\u001b[0m\u001b[0mticks\u001b[0m\u001b[0;34m)\u001b[0m\u001b[0;34m\u001b[0m\u001b[0;34m\u001b[0m\u001b[0m\n\u001b[0m\u001b[1;32m   1705\u001b[0m         \u001b[0;32mif\u001b[0m \u001b[0mlen\u001b[0m\u001b[0;34m(\u001b[0m\u001b[0mticks\u001b[0m\u001b[0;34m)\u001b[0m \u001b[0;34m>\u001b[0m \u001b[0;36m1\u001b[0m\u001b[0;34m:\u001b[0m\u001b[0;34m\u001b[0m\u001b[0;34m\u001b[0m\u001b[0m\n\u001b[1;32m   1706\u001b[0m             \u001b[0mxleft\u001b[0m\u001b[0;34m,\u001b[0m \u001b[0mxright\u001b[0m \u001b[0;34m=\u001b[0m \u001b[0mself\u001b[0m\u001b[0;34m.\u001b[0m\u001b[0mget_view_interval\u001b[0m\u001b[0;34m(\u001b[0m\u001b[0;34m)\u001b[0m\u001b[0;34m\u001b[0m\u001b[0;34m\u001b[0m\u001b[0m\n",
      "\u001b[0;32m~/venv/lib/python3.6/site-packages/matplotlib/axis.py\u001b[0m in \u001b[0;36mconvert_units\u001b[0;34m(self, x)\u001b[0m\n\u001b[1;32m   1528\u001b[0m             \u001b[0;32mreturn\u001b[0m \u001b[0mx\u001b[0m\u001b[0;34m\u001b[0m\u001b[0;34m\u001b[0m\u001b[0m\n\u001b[1;32m   1529\u001b[0m \u001b[0;34m\u001b[0m\u001b[0m\n\u001b[0;32m-> 1530\u001b[0;31m         \u001b[0mret\u001b[0m \u001b[0;34m=\u001b[0m \u001b[0mself\u001b[0m\u001b[0;34m.\u001b[0m\u001b[0mconverter\u001b[0m\u001b[0;34m.\u001b[0m\u001b[0mconvert\u001b[0m\u001b[0;34m(\u001b[0m\u001b[0mx\u001b[0m\u001b[0;34m,\u001b[0m \u001b[0mself\u001b[0m\u001b[0;34m.\u001b[0m\u001b[0munits\u001b[0m\u001b[0;34m,\u001b[0m \u001b[0mself\u001b[0m\u001b[0;34m)\u001b[0m\u001b[0;34m\u001b[0m\u001b[0;34m\u001b[0m\u001b[0m\n\u001b[0m\u001b[1;32m   1531\u001b[0m         \u001b[0;32mreturn\u001b[0m \u001b[0mret\u001b[0m\u001b[0;34m\u001b[0m\u001b[0;34m\u001b[0m\u001b[0m\n\u001b[1;32m   1532\u001b[0m \u001b[0;34m\u001b[0m\u001b[0m\n",
      "\u001b[0;32m~/venv/lib/python3.6/site-packages/matplotlib/category.py\u001b[0m in \u001b[0;36mconvert\u001b[0;34m(value, unit, axis)\u001b[0m\n\u001b[1;32m     51\u001b[0m \u001b[0;34m\u001b[0m\u001b[0m\n\u001b[1;32m     52\u001b[0m         \u001b[0;31m# force an update so it also does type checking\u001b[0m\u001b[0;34m\u001b[0m\u001b[0;34m\u001b[0m\u001b[0;34m\u001b[0m\u001b[0m\n\u001b[0;32m---> 53\u001b[0;31m         \u001b[0munit\u001b[0m\u001b[0;34m.\u001b[0m\u001b[0mupdate\u001b[0m\u001b[0;34m(\u001b[0m\u001b[0mvalues\u001b[0m\u001b[0;34m)\u001b[0m\u001b[0;34m\u001b[0m\u001b[0;34m\u001b[0m\u001b[0m\n\u001b[0m\u001b[1;32m     54\u001b[0m \u001b[0;34m\u001b[0m\u001b[0m\n\u001b[1;32m     55\u001b[0m         str2idx = np.vectorize(unit._mapping.__getitem__,\n",
      "\u001b[0;31mAttributeError\u001b[0m: 'NoneType' object has no attribute 'update'"
     ]
    },
    {
     "data": {
      "image/png": "[encoded data removed]",
      "text/plain": [
       "<Figure size 18000x720 with 1 Axes>"
      ]
     },
     "metadata": {
      "needs_background": "light"
     },
     "output_type": "display_data"
    }
   ],
   "source": [
    "# get the genus\n",
    "genus = plasmid_df.iloc[0:200]['genus'].values\n",
    "# get the values of size\n",
    "size = plasmid_df.iloc[0:200]['Size (Kb)'].values\n",
    "#size = plasmid_df[plasmid_df['Size (Kb)'] < 4000]\n",
    "\n",
    "\n",
    "\n",
    "#limit data range\n",
    "#min_size = plasmid_df['Size (Kb)'].min()\n",
    "#max_size = plasmid_df['Size (Kb)'].max()\n",
    "#plt.xlim(min_size,max_size)\n",
    "\n",
    "\n",
    "#set size\n",
    "plt.figure(figsize=(250,10))\n",
    "#fig.set_size_inches(width,height)\n",
    "\n",
    "\n",
    "# Label the axes\n",
    "plt.xlabel('Genus')\n",
    "plt.ylabel('Size (Kb)')\n",
    "\n",
    "plt.plot(genus, size)\n",
    "\n",
    "# Pad margins so that markers don't get clipped by the axes\n",
    "plt.margins(x=0.01, y=0.01, tight=True)\n",
    "\n",
    "#Rotate labels\n",
    "labels = plasmid_df.iloc[0:200]['genus'].unique()\n",
    "plt.xticks(genus, rotation='vertical')\n",
    "\n",
    "#label the figure\n",
    "plt.title('Plasmid size by genus')\n",
    "\n",
    "\n",
    "# create\n",
    "#plt.bar(genus,size)\n",
    "plt.show()"
   ]
  },
  {
   "cell_type": "code",
   "execution_count": null,
   "metadata": {},
   "outputs": [],
   "source": []
  },
  {
   "cell_type": "code",
   "execution_count": null,
   "metadata": {},
   "outputs": [],
   "source": [
    "# get the genus\n",
    "genus = plasmid_df['genus'].values\n",
    "# get the values of size\n",
    "size = plasmid_df['Size (Kb)'].values\n",
    "#size = plasmid_df[plasmid_df['Size (Kb)'] < 4000]\n",
    "\n",
    "#set size\n",
    "plt.figure(figsize=(250,5))\n",
    "#fig.set_size_inches(width,height)\n",
    "\n",
    "\n",
    "# Label the axes\n",
    "plt.xlabel('Genus')\n",
    "plt.ylabel('Size (Kb)')\n",
    "\n",
    "plt.boxplot(genus, size)\n",
    "\n",
    "#Rotate labels\n",
    "labels = plasmid_df['genus'].unique()\n",
    "plt.xticks(genus, rotation='vertical')\n",
    "\n",
    "#label the figure\n",
    "plt.title('Plasmid size by genus')\n",
    "\n",
    "\n",
    "# create\n",
    "#plt.bar(genus,size)\n",
    "plt.show()"
   ]
  },
  {
   "cell_type": "code",
   "execution_count": 57,
   "metadata": {},
   "outputs": [
    {
     "name": "stdout",
     "output_type": "stream",
     "text": [
      "There are 600 different genus\n",
      "There maximun size is 5836.68 Kb\n",
      "There minimumn size is 0.537 Kb\n",
      "There maximun size belongs to Pseudomonas monteilii\n"
     ]
    }
   ],
   "source": [
    "print(\"There are %s different genus\" % len(plasmid_df['genus'].unique()))\n",
    "print(\"There maximun size is %s Kb\" % plasmid_df['Size (Kb)'].max())\n",
    "print(\"There minimumn size is %s Kb\" % plasmid_df['Size (Kb)'].min())\n",
    "#get index of maximun value\n",
    "max_size_index = plasmid_df['Size (Kb)'].idxmax()\n",
    "#print(max_size_index)\n",
    "#And retrieve the organism\n",
    "plasmid_df.loc[max_size_index, 'Organism']\n",
    "\n",
    "print(\"There maximun size belongs to %s\" % plasmid_df.loc[max_size_index, 'Organism'])\n"
   ]
  },
  {
   "cell_type": "code",
   "execution_count": null,
   "metadata": {},
   "outputs": [],
   "source": []
  },
  {
   "cell_type": "markdown",
   "metadata": {},
   "source": [
    "### Author: pedroscampoy@gmail.com\n",
    "#### TUTORIAL UNDER CONSTRUCTION"
   ]
  },
  {
   "cell_type": "code",
   "execution_count": 37,
   "metadata": {},
   "outputs": [
    {
     "data": {
      "text/plain": [
       "<matplotlib.axes._subplots.AxesSubplot at 0x7f92b80bd4a8>"
      ]
     },
     "execution_count": 37,
     "metadata": {},
     "output_type": "execute_result"
    },
    {
     "data": {
      "image/png": "[encoded data removed]",
      "text/plain": [
       "<Figure size 1440x360 with 1 Axes>"
      ]
     },
     "metadata": {
      "needs_background": "light"
     },
     "output_type": "display_data"
    }
   ],
   "source": [
    "plasmid_df.iloc[0:200][['Group', 'Size (Kb)']].plot.box(figsize=(20,5))\n",
    "#plasmid_df\n",
    "#plasmid_size.colum = \"Size\"\n",
    "#plasmid_size\n",
    "#plasmid_size['double size'] = plasmid_df['Size (Kb)']*2"
   ]
  }
 ],
 "metadata": {
  "kernelspec": {
   "display_name": "Python 3",
   "language": "python",
   "name": "python3"
  },
  "language_info": {
   "codemirror_mode": {
    "name": "ipython",
    "version": 3
   },
   "file_extension": ".py",
   "mimetype": "text/x-python",
   "name": "python",
   "nbconvert_exporter": "python",
   "pygments_lexer": "ipython3",
   "version": "3.6.7"
  }
 },
 "nbformat": 4,
 "nbformat_minor": 2
}
