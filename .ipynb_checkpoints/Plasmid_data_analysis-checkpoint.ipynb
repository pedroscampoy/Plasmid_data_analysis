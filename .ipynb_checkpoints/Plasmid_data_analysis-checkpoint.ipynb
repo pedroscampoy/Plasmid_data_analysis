{
 "cells": [
  {
   "cell_type": "markdown",
   "metadata": {},
   "source": [
    "# Plasmid_data_analysis\n",
    "\n",
    "Plasmid data analysis is a test jupyter noteboot to train into several python3 commands and data analysis tools:\n",
    "    - urllib\n",
    "    - pandas\n",
    "    - matplotlib\n",
    "    - etc."
   ]
  },
  {
   "cell_type": "markdown",
   "metadata": {},
   "source": [
    "First we need to download the file we are going to use from [ncbi](https://www.ncbi.nlm.nih.gov/) __FTP__ server:\n",
    "[ftp://ftp.ncbi.nlm.nih.gov/genomes/GENOME_REPORTS/plasmids.txt](ftp://ftp.ncbi.nlm.nih.gov/genomes/GENOME_REPORTS/plasmids.txt).\n",
    "\n",
    "For that we use urllib to retrieve the file containing all plasmid added to refseq database:"
   ]
  },
  {
   "cell_type": "code",
   "execution_count": null,
   "metadata": {},
   "outputs": [],
   "source": [
    "import sys\n",
    "\n",
    "print(sys.version)\n",
    "\n",
    "#sys.path.append('usr/local/share/jupyter/kernels')\n",
    "sys.path.append('~/env36/lib/python3.6/site-packages/')"
   ]
  },
  {
   "cell_type": "code",
   "execution_count": null,
   "metadata": {},
   "outputs": [],
   "source": [
    "import urllib\n",
    "import matplotlib\n",
    "import pandas as pd"
   ]
  },
  {
   "cell_type": "code",
   "execution_count": null,
   "metadata": {},
   "outputs": [],
   "source": [
    "#Alternate way to download the file (would need to storage in in a file)\n",
    "#url = 'ftp://ftp.ncbi.nlm.nih.gov/genomes/GENOME_REPORTS/plasmids.txt'\n",
    "#with urllib.request.urlopen(url) as plasmidurl:\n",
    "#    plasmids = plasmidurl.read()"
   ]
  },
  {
   "cell_type": "code",
   "execution_count": null,
   "metadata": {},
   "outputs": [],
   "source": [
    "#faster way to store the database in a file\n",
    "url = 'ftp://ftp.ncbi.nlm.nih.gov/genomes/GENOME_REPORTS/plasmids.txt'\n",
    "urllib.request.urlretrieve(url, 'plasmid_ddbb.txt')"
   ]
  },
  {
   "cell_type": "markdown",
   "metadata": {},
   "source": [
    "The file downloaded is a TSV (tab-separated value) file with all plasmids added to the refseq database, which looks like that:"
   ]
  },
  {
   "cell_type": "code",
   "execution_count": null,
   "metadata": {
    "scrolled": false
   },
   "outputs": [],
   "source": [
    "with open(\"plasmid_ddbb.txt\") as plasmid_ddbb:\n",
    "    head = plasmid_ddbb.readlines()[0:10]\n",
    "print(head)"
   ]
  },
  {
   "cell_type": "markdown",
   "metadata": {},
   "source": [
    "This prints the top 10 lines of the file.\n",
    "\n",
    "To see the same information in a human readable format we use pandas. \n",
    "With head command, we can see the top 10 rows of a pandas dataframe"
   ]
  },
  {
   "cell_type": "code",
   "execution_count": 4,
   "metadata": {},
   "outputs": [],
   "source": [
    "#Add the TSV file into a pandas DataFrame \n",
    "plasmid_df = pd.read_csv(\"plasmid_ddbb.txt\", sep='\\t', header=0)\n",
    "#other parameters nrows=5"
   ]
  },
  {
   "cell_type": "code",
   "execution_count": 17,
   "metadata": {},
   "outputs": [
    {
     "data": {
      "text/html": [
       "<div>\n",
       "<style scoped>\n",
       "    .dataframe tbody tr th:only-of-type {\n",
       "        vertical-align: middle;\n",
       "    }\n",
       "\n",
       "    .dataframe tbody tr th {\n",
       "        vertical-align: top;\n",
       "    }\n",
       "\n",
       "    .dataframe thead th {\n",
       "        text-align: right;\n",
       "    }\n",
       "</style>\n",
       "<table border=\"1\" class=\"dataframe\">\n",
       "  <thead>\n",
       "    <tr style=\"text-align: right;\">\n",
       "      <th></th>\n",
       "      <th>#Organism/Name</th>\n",
       "      <th>Kingdom</th>\n",
       "      <th>Group</th>\n",
       "      <th>SubGroup</th>\n",
       "      <th>Plasmid Name</th>\n",
       "      <th>RefSeq</th>\n",
       "      <th>INSDC</th>\n",
       "      <th>Size (Kb)</th>\n",
       "      <th>GC%</th>\n",
       "      <th>Protein</th>\n",
       "      <th>rRNA</th>\n",
       "      <th>tRNA</th>\n",
       "      <th>Other RNA</th>\n",
       "      <th>Gene</th>\n",
       "      <th>Pseudogene</th>\n",
       "    </tr>\n",
       "  </thead>\n",
       "  <tbody>\n",
       "    <tr>\n",
       "      <th>0</th>\n",
       "      <td>Acaryochloris marina MBIC11017</td>\n",
       "      <td>Bacteria</td>\n",
       "      <td>Terrabacteria group</td>\n",
       "      <td>Cyanobacteria/Melainabacteria group</td>\n",
       "      <td>pREB1</td>\n",
       "      <td>NC_009926.1</td>\n",
       "      <td>CP000838</td>\n",
       "      <td>374.161</td>\n",
       "      <td>47.3483</td>\n",
       "      <td>309</td>\n",
       "      <td>-</td>\n",
       "      <td>-</td>\n",
       "      <td>-</td>\n",
       "      <td>333</td>\n",
       "      <td>24</td>\n",
       "    </tr>\n",
       "    <tr>\n",
       "      <th>1</th>\n",
       "      <td>Acaryochloris marina MBIC11017</td>\n",
       "      <td>Bacteria</td>\n",
       "      <td>Terrabacteria group</td>\n",
       "      <td>Cyanobacteria/Melainabacteria group</td>\n",
       "      <td>pREB2</td>\n",
       "      <td>NC_009927.1</td>\n",
       "      <td>CP000839</td>\n",
       "      <td>356.087</td>\n",
       "      <td>45.3367</td>\n",
       "      <td>336</td>\n",
       "      <td>-</td>\n",
       "      <td>-</td>\n",
       "      <td>-</td>\n",
       "      <td>360</td>\n",
       "      <td>24</td>\n",
       "    </tr>\n",
       "    <tr>\n",
       "      <th>2</th>\n",
       "      <td>Acaryochloris marina MBIC11017</td>\n",
       "      <td>Bacteria</td>\n",
       "      <td>Terrabacteria group</td>\n",
       "      <td>Cyanobacteria/Melainabacteria group</td>\n",
       "      <td>pREB3</td>\n",
       "      <td>NC_009928.1</td>\n",
       "      <td>CP000840</td>\n",
       "      <td>273.121</td>\n",
       "      <td>45.1902</td>\n",
       "      <td>250</td>\n",
       "      <td>-</td>\n",
       "      <td>-</td>\n",
       "      <td>-</td>\n",
       "      <td>290</td>\n",
       "      <td>40</td>\n",
       "    </tr>\n",
       "    <tr>\n",
       "      <th>3</th>\n",
       "      <td>Acaryochloris marina MBIC11017</td>\n",
       "      <td>Bacteria</td>\n",
       "      <td>Terrabacteria group</td>\n",
       "      <td>Cyanobacteria/Melainabacteria group</td>\n",
       "      <td>pREB4</td>\n",
       "      <td>NC_009929.1</td>\n",
       "      <td>CP000841</td>\n",
       "      <td>226.680</td>\n",
       "      <td>45.8770</td>\n",
       "      <td>209</td>\n",
       "      <td>-</td>\n",
       "      <td>-</td>\n",
       "      <td>-</td>\n",
       "      <td>225</td>\n",
       "      <td>16</td>\n",
       "    </tr>\n",
       "    <tr>\n",
       "      <th>4</th>\n",
       "      <td>Acaryochloris marina MBIC11017</td>\n",
       "      <td>Bacteria</td>\n",
       "      <td>Terrabacteria group</td>\n",
       "      <td>Cyanobacteria/Melainabacteria group</td>\n",
       "      <td>pREB5</td>\n",
       "      <td>NC_009930.1</td>\n",
       "      <td>CP000842</td>\n",
       "      <td>177.162</td>\n",
       "      <td>44.6755</td>\n",
       "      <td>176</td>\n",
       "      <td>-</td>\n",
       "      <td>-</td>\n",
       "      <td>-</td>\n",
       "      <td>179</td>\n",
       "      <td>3</td>\n",
       "    </tr>\n",
       "    <tr>\n",
       "      <th>5</th>\n",
       "      <td>Acaryochloris marina MBIC11017</td>\n",
       "      <td>Bacteria</td>\n",
       "      <td>Terrabacteria group</td>\n",
       "      <td>Cyanobacteria/Melainabacteria group</td>\n",
       "      <td>pREB6</td>\n",
       "      <td>NC_009931.1</td>\n",
       "      <td>CP000843</td>\n",
       "      <td>172.728</td>\n",
       "      <td>47.1267</td>\n",
       "      <td>152</td>\n",
       "      <td>-</td>\n",
       "      <td>-</td>\n",
       "      <td>-</td>\n",
       "      <td>165</td>\n",
       "      <td>13</td>\n",
       "    </tr>\n",
       "    <tr>\n",
       "      <th>6</th>\n",
       "      <td>Acaryochloris marina MBIC11017</td>\n",
       "      <td>Bacteria</td>\n",
       "      <td>Terrabacteria group</td>\n",
       "      <td>Cyanobacteria/Melainabacteria group</td>\n",
       "      <td>pREB7</td>\n",
       "      <td>NC_009932.1</td>\n",
       "      <td>CP000844</td>\n",
       "      <td>155.110</td>\n",
       "      <td>45.5909</td>\n",
       "      <td>130</td>\n",
       "      <td>-</td>\n",
       "      <td>-</td>\n",
       "      <td>-</td>\n",
       "      <td>136</td>\n",
       "      <td>6</td>\n",
       "    </tr>\n",
       "    <tr>\n",
       "      <th>7</th>\n",
       "      <td>Acaryochloris marina MBIC11017</td>\n",
       "      <td>Bacteria</td>\n",
       "      <td>Terrabacteria group</td>\n",
       "      <td>Cyanobacteria/Melainabacteria group</td>\n",
       "      <td>pREB8</td>\n",
       "      <td>NC_009933.1</td>\n",
       "      <td>CP000845</td>\n",
       "      <td>120.693</td>\n",
       "      <td>45.4185</td>\n",
       "      <td>103</td>\n",
       "      <td>-</td>\n",
       "      <td>-</td>\n",
       "      <td>-</td>\n",
       "      <td>109</td>\n",
       "      <td>6</td>\n",
       "    </tr>\n",
       "    <tr>\n",
       "      <th>8</th>\n",
       "      <td>Acaryochloris marina MBIC11017</td>\n",
       "      <td>Bacteria</td>\n",
       "      <td>Terrabacteria group</td>\n",
       "      <td>Cyanobacteria/Melainabacteria group</td>\n",
       "      <td>pREB9</td>\n",
       "      <td>NC_009934.1</td>\n",
       "      <td>CP000846</td>\n",
       "      <td>2.133</td>\n",
       "      <td>42.5223</td>\n",
       "      <td>2</td>\n",
       "      <td>-</td>\n",
       "      <td>-</td>\n",
       "      <td>-</td>\n",
       "      <td>3</td>\n",
       "      <td>1</td>\n",
       "    </tr>\n",
       "    <tr>\n",
       "      <th>9</th>\n",
       "      <td>Acetobacter aceti</td>\n",
       "      <td>Bacteria</td>\n",
       "      <td>Proteobacteria</td>\n",
       "      <td>Alphaproteobacteria</td>\n",
       "      <td>pAC5</td>\n",
       "      <td>NC_001275.1</td>\n",
       "      <td>AF110140</td>\n",
       "      <td>5.123</td>\n",
       "      <td>55.8657</td>\n",
       "      <td>2</td>\n",
       "      <td>-</td>\n",
       "      <td>-</td>\n",
       "      <td>-</td>\n",
       "      <td>2</td>\n",
       "      <td>-</td>\n",
       "    </tr>\n",
       "  </tbody>\n",
       "</table>\n",
       "</div>"
      ],
      "text/plain": [
       "                   #Organism/Name   Kingdom                Group  \\\n",
       "0  Acaryochloris marina MBIC11017  Bacteria  Terrabacteria group   \n",
       "1  Acaryochloris marina MBIC11017  Bacteria  Terrabacteria group   \n",
       "2  Acaryochloris marina MBIC11017  Bacteria  Terrabacteria group   \n",
       "3  Acaryochloris marina MBIC11017  Bacteria  Terrabacteria group   \n",
       "4  Acaryochloris marina MBIC11017  Bacteria  Terrabacteria group   \n",
       "5  Acaryochloris marina MBIC11017  Bacteria  Terrabacteria group   \n",
       "6  Acaryochloris marina MBIC11017  Bacteria  Terrabacteria group   \n",
       "7  Acaryochloris marina MBIC11017  Bacteria  Terrabacteria group   \n",
       "8  Acaryochloris marina MBIC11017  Bacteria  Terrabacteria group   \n",
       "9               Acetobacter aceti  Bacteria       Proteobacteria   \n",
       "\n",
       "                              SubGroup Plasmid Name       RefSeq     INSDC  \\\n",
       "0  Cyanobacteria/Melainabacteria group        pREB1  NC_009926.1  CP000838   \n",
       "1  Cyanobacteria/Melainabacteria group        pREB2  NC_009927.1  CP000839   \n",
       "2  Cyanobacteria/Melainabacteria group        pREB3  NC_009928.1  CP000840   \n",
       "3  Cyanobacteria/Melainabacteria group        pREB4  NC_009929.1  CP000841   \n",
       "4  Cyanobacteria/Melainabacteria group        pREB5  NC_009930.1  CP000842   \n",
       "5  Cyanobacteria/Melainabacteria group        pREB6  NC_009931.1  CP000843   \n",
       "6  Cyanobacteria/Melainabacteria group        pREB7  NC_009932.1  CP000844   \n",
       "7  Cyanobacteria/Melainabacteria group        pREB8  NC_009933.1  CP000845   \n",
       "8  Cyanobacteria/Melainabacteria group        pREB9  NC_009934.1  CP000846   \n",
       "9                  Alphaproteobacteria         pAC5  NC_001275.1  AF110140   \n",
       "\n",
       "   Size (Kb)      GC% Protein rRNA tRNA Other RNA Gene Pseudogene  \n",
       "0    374.161  47.3483     309    -    -         -  333         24  \n",
       "1    356.087  45.3367     336    -    -         -  360         24  \n",
       "2    273.121  45.1902     250    -    -         -  290         40  \n",
       "3    226.680  45.8770     209    -    -         -  225         16  \n",
       "4    177.162  44.6755     176    -    -         -  179          3  \n",
       "5    172.728  47.1267     152    -    -         -  165         13  \n",
       "6    155.110  45.5909     130    -    -         -  136          6  \n",
       "7    120.693  45.4185     103    -    -         -  109          6  \n",
       "8      2.133  42.5223       2    -    -         -    3          1  \n",
       "9      5.123  55.8657       2    -    -         -    2          -  "
      ]
     },
     "execution_count": 17,
     "metadata": {},
     "output_type": "execute_result"
    }
   ],
   "source": [
    "plasmid_df.head(10)"
   ]
  },
  {
   "cell_type": "code",
   "execution_count": 15,
   "metadata": {},
   "outputs": [
    {
     "name": "stdout",
     "output_type": "stream",
     "text": [
      "This database has 14406 plasmids with information of 15 features:\n",
      "- #Organism/Name\n",
      "- Kingdom\n",
      "- Group\n",
      "- SubGroup\n",
      "- Plasmid Name\n",
      "- RefSeq\n",
      "- INSDC\n",
      "- Size (Kb)\n",
      "- GC%\n",
      "- Protein\n",
      "- rRNA\n",
      "- tRNA\n",
      "- Other RNA\n",
      "- Gene\n",
      "- Pseudogene\n"
     ]
    }
   ],
   "source": [
    "#The function shape tell us the DF dimensions \n",
    "print('This database has %s plasmids with information of %s features:' %  plasmid_df.shape)\n",
    "for feature in plasmid_df.columns:\n",
    "    print(\"- \" + feature)"
   ]
  },
  {
   "cell_type": "code",
   "execution_count": 20,
   "metadata": {},
   "outputs": [
    {
     "data": {
      "text/html": [
       "<div>\n",
       "<style scoped>\n",
       "    .dataframe tbody tr th:only-of-type {\n",
       "        vertical-align: middle;\n",
       "    }\n",
       "\n",
       "    .dataframe tbody tr th {\n",
       "        vertical-align: top;\n",
       "    }\n",
       "\n",
       "    .dataframe thead th {\n",
       "        text-align: right;\n",
       "    }\n",
       "</style>\n",
       "<table border=\"1\" class=\"dataframe\">\n",
       "  <thead>\n",
       "    <tr style=\"text-align: right;\">\n",
       "      <th></th>\n",
       "      <th>Size (Kb)</th>\n",
       "      <th>GC%</th>\n",
       "    </tr>\n",
       "  </thead>\n",
       "  <tbody>\n",
       "    <tr>\n",
       "      <th>count</th>\n",
       "      <td>14406.000000</td>\n",
       "      <td>14406.000000</td>\n",
       "    </tr>\n",
       "    <tr>\n",
       "      <th>mean</th>\n",
       "      <td>111.212034</td>\n",
       "      <td>45.939259</td>\n",
       "    </tr>\n",
       "    <tr>\n",
       "      <th>std</th>\n",
       "      <td>241.435367</td>\n",
       "      <td>11.771237</td>\n",
       "    </tr>\n",
       "    <tr>\n",
       "      <th>min</th>\n",
       "      <td>0.537000</td>\n",
       "      <td>0.000000</td>\n",
       "    </tr>\n",
       "    <tr>\n",
       "      <th>25%</th>\n",
       "      <td>11.975000</td>\n",
       "      <td>35.878950</td>\n",
       "    </tr>\n",
       "    <tr>\n",
       "      <th>50%</th>\n",
       "      <td>48.867500</td>\n",
       "      <td>46.729050</td>\n",
       "    </tr>\n",
       "    <tr>\n",
       "      <th>75%</th>\n",
       "      <td>111.692750</td>\n",
       "      <td>54.125875</td>\n",
       "    </tr>\n",
       "    <tr>\n",
       "      <th>max</th>\n",
       "      <td>5836.680000</td>\n",
       "      <td>87.477300</td>\n",
       "    </tr>\n",
       "  </tbody>\n",
       "</table>\n",
       "</div>"
      ],
      "text/plain": [
       "          Size (Kb)           GC%\n",
       "count  14406.000000  14406.000000\n",
       "mean     111.212034     45.939259\n",
       "std      241.435367     11.771237\n",
       "min        0.537000      0.000000\n",
       "25%       11.975000     35.878950\n",
       "50%       48.867500     46.729050\n",
       "75%      111.692750     54.125875\n",
       "max     5836.680000     87.477300"
      ]
     },
     "execution_count": 20,
     "metadata": {},
     "output_type": "execute_result"
    }
   ],
   "source": [
    "plasmid_df.describe()"
   ]
  },
  {
   "cell_type": "code",
   "execution_count": 22,
   "metadata": {},
   "outputs": [
    {
     "data": {
      "text/plain": [
       "count     14406\n",
       "unique       14\n",
       "top           -\n",
       "freq      14233\n",
       "Name: rRNA, dtype: object"
      ]
     },
     "execution_count": 22,
     "metadata": {},
     "output_type": "execute_result"
    }
   ],
   "source": [
    "plasmid_df['rRNA'].describe()"
   ]
  },
  {
   "cell_type": "code",
   "execution_count": 23,
   "metadata": {
    "scrolled": true
   },
   "outputs": [
    {
     "data": {
      "text/html": [
       "<div>\n",
       "<style scoped>\n",
       "    .dataframe tbody tr th:only-of-type {\n",
       "        vertical-align: middle;\n",
       "    }\n",
       "\n",
       "    .dataframe tbody tr th {\n",
       "        vertical-align: top;\n",
       "    }\n",
       "\n",
       "    .dataframe thead th {\n",
       "        text-align: right;\n",
       "    }\n",
       "</style>\n",
       "<table border=\"1\" class=\"dataframe\">\n",
       "  <thead>\n",
       "    <tr style=\"text-align: right;\">\n",
       "      <th></th>\n",
       "      <th>#Organism/Name</th>\n",
       "      <th>Kingdom</th>\n",
       "      <th>Group</th>\n",
       "      <th>SubGroup</th>\n",
       "    </tr>\n",
       "  </thead>\n",
       "  <tbody>\n",
       "    <tr>\n",
       "      <th>count</th>\n",
       "      <td>14406</td>\n",
       "      <td>14406</td>\n",
       "      <td>14406</td>\n",
       "      <td>14406</td>\n",
       "    </tr>\n",
       "    <tr>\n",
       "      <th>unique</th>\n",
       "      <td>3230</td>\n",
       "      <td>4</td>\n",
       "      <td>22</td>\n",
       "      <td>57</td>\n",
       "    </tr>\n",
       "    <tr>\n",
       "      <th>top</th>\n",
       "      <td>Escherichia coli</td>\n",
       "      <td>Bacteria</td>\n",
       "      <td>Proteobacteria</td>\n",
       "      <td>Gammaproteobacteria</td>\n",
       "    </tr>\n",
       "    <tr>\n",
       "      <th>freq</th>\n",
       "      <td>1151</td>\n",
       "      <td>14094</td>\n",
       "      <td>8604</td>\n",
       "      <td>6214</td>\n",
       "    </tr>\n",
       "  </tbody>\n",
       "</table>\n",
       "</div>"
      ],
      "text/plain": [
       "          #Organism/Name   Kingdom           Group             SubGroup\n",
       "count              14406     14406           14406                14406\n",
       "unique              3230         4              22                   57\n",
       "top     Escherichia coli  Bacteria  Proteobacteria  Gammaproteobacteria\n",
       "freq                1151     14094            8604                 6214"
      ]
     },
     "execution_count": 23,
     "metadata": {},
     "output_type": "execute_result"
    }
   ],
   "source": [
    "plasmid_df[['#Organism/Name','Kingdom','Group','SubGroup']].describe()"
   ]
  },
  {
   "cell_type": "code",
   "execution_count": null,
   "metadata": {},
   "outputs": [],
   "source": [
    "#locate a specific plasmid\n",
    "#plasmid_df.iloc[4497]\n",
    "#plasmid_df['Plasmid Name']"
   ]
  },
  {
   "cell_type": "markdown",
   "metadata": {},
   "source": [
    "The key fields are completelly filled. Fieds such 'rRNA', 'tRNA' or 'Other RNA' have many missing values. As an attemp to clean them we can make a copy and replace '-' for 'NaN' to find out if those missing values alter descriptive stats. We will find out later that this is __not__ the case."
   ]
  },
  {
   "cell_type": "code",
   "execution_count": null,
   "metadata": {},
   "outputs": [],
   "source": [
    "plasmid_missing = plasmid_df.copy()\n",
    "plasmid_na = plasmid_missing.replace('-', 'NaN')\n",
    "#plasmid_na"
   ]
  },
  {
   "cell_type": "code",
   "execution_count": null,
   "metadata": {},
   "outputs": [],
   "source": [
    "print(plasmid_df['rRNA'].describe(), plasmid_na['rRNA'].describe())\n"
   ]
  },
  {
   "cell_type": "markdown",
   "metadata": {},
   "source": [
    "Plasmids are very promiscuous structuresthat can be transfered within different species so, to find a relationship within species and other feature, we first need to use only genus and species, not the fields supplied that includes the variety, interpreted as different organism.\n",
    "\n",
    "We can do it easily with string manipulation."
   ]
  },
  {
   "cell_type": "code",
   "execution_count": 30,
   "metadata": {},
   "outputs": [
    {
     "data": {
      "text/plain": [
       "<matplotlib.axes._subplots.AxesSubplot at 0x7f1a570e4320>"
      ]
     },
     "execution_count": 30,
     "metadata": {},
     "output_type": "execute_result"
    },
    {
     "data": {
      "image/png": "[encoded data removed]",
      "text/plain": [
       "<Figure size 432x288 with 1 Axes>"
      ]
     },
     "metadata": {
      "needs_background": "light"
     },
     "output_type": "display_data"
    }
   ],
   "source": [
    "plasmid_df[['Group', 'Size (Kb)']].plot.box()\n",
    "#plasmid_df\n",
    "#plasmid_size.colum = \"Size\"\n",
    "#plasmid_size\n",
    "#plasmid_size['double size'] = plasmid_df['Size (Kb)']*2\n"
   ]
  },
  {
   "cell_type": "code",
   "execution_count": 31,
   "metadata": {},
   "outputs": [
    {
     "data": {
      "text/plain": [
       "<matplotlib.axes._subplots.AxesSubplot at 0x7f1a56ed1710>"
      ]
     },
     "execution_count": 31,
     "metadata": {},
     "output_type": "execute_result"
    },
    {
     "data": {
      "image/png": "[encoded data removed]",
      "text/plain": [
       "<Figure size 432x288 with 1 Axes>"
      ]
     },
     "metadata": {
      "needs_background": "light"
     },
     "output_type": "display_data"
    }
   ],
   "source": [
    "plasmid_df[['Kingdom', 'Size (Kb)']].plot.bar()\n"
   ]
  },
  {
   "cell_type": "markdown",
   "metadata": {},
   "source": [
    "### Author: pedroscampoy@gmail.com\n",
    "#### TUTORIAL UNDER CONSTRUCTION"
   ]
  },
  {
   "cell_type": "code",
   "execution_count": null,
   "metadata": {},
   "outputs": [],
   "source": []
  }
 ],
 "metadata": {
  "kernelspec": {
   "display_name": "Python 3",
   "language": "python",
   "name": "python3"
  },
  "language_info": {
   "codemirror_mode": {
    "name": "ipython",
    "version": 3
   },
   "file_extension": ".py",
   "mimetype": "text/x-python",
   "name": "python",
   "nbconvert_exporter": "python",
   "pygments_lexer": "ipython3",
   "version": "3.6.5"
  }
 },
 "nbformat": 4,
 "nbformat_minor": 2
}
